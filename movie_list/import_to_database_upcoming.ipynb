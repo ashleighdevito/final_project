{
 "cells": [
  {
   "cell_type": "code",
   "execution_count": 26,
   "metadata": {},
   "outputs": [],
   "source": [
    "import pandas as pd\n",
    "from sqlalchemy import create_engine\n",
    "from sqlalchemy.orm import Session\n",
    "import psycopg2 as pg\n",
    "\n",
    "from db_config import db_user\n",
    "from db_config import db_pass\n",
    "from db_config import db_host\n",
    "from db_config import DB\n"
   ]
  },
  {
   "cell_type": "code",
   "execution_count": 27,
   "metadata": {},
   "outputs": [
    {
     "data": {
      "text/html": [
       "<div>\n",
       "<style scoped>\n",
       "    .dataframe tbody tr th:only-of-type {\n",
       "        vertical-align: middle;\n",
       "    }\n",
       "\n",
       "    .dataframe tbody tr th {\n",
       "        vertical-align: top;\n",
       "    }\n",
       "\n",
       "    .dataframe thead th {\n",
       "        text-align: right;\n",
       "    }\n",
       "</style>\n",
       "<table border=\"1\" class=\"dataframe\">\n",
       "  <thead>\n",
       "    <tr style=\"text-align: right;\">\n",
       "      <th></th>\n",
       "      <th>movie_id</th>\n",
       "      <th>title</th>\n",
       "      <th>movie_rating</th>\n",
       "      <th>release_date</th>\n",
       "      <th>runtime</th>\n",
       "      <th>metascore</th>\n",
       "      <th>imdb_rating</th>\n",
       "      <th>budget</th>\n",
       "      <th>boxoffice</th>\n",
       "      <th>buzz</th>\n",
       "    </tr>\n",
       "  </thead>\n",
       "  <tbody>\n",
       "    <tr>\n",
       "      <th>0</th>\n",
       "      <td>1</td>\n",
       "      <td>Dune</td>\n",
       "      <td>PG-13</td>\n",
       "      <td>2021-10-22</td>\n",
       "      <td>155</td>\n",
       "      <td>75.0</td>\n",
       "      <td>8.4</td>\n",
       "      <td>21000000</td>\n",
       "      <td>0</td>\n",
       "      <td>4</td>\n",
       "    </tr>\n",
       "    <tr>\n",
       "      <th>1</th>\n",
       "      <td>3</td>\n",
       "      <td>Ron's Gone Wrong</td>\n",
       "      <td>PG</td>\n",
       "      <td>2021-10-22</td>\n",
       "      <td>106</td>\n",
       "      <td>68.0</td>\n",
       "      <td>6.3</td>\n",
       "      <td>21000000</td>\n",
       "      <td>0</td>\n",
       "      <td>4</td>\n",
       "    </tr>\n",
       "    <tr>\n",
       "      <th>2</th>\n",
       "      <td>8</td>\n",
       "      <td>The Souvenir: Part II</td>\n",
       "      <td>R</td>\n",
       "      <td>2021-10-29</td>\n",
       "      <td>106</td>\n",
       "      <td>98.0</td>\n",
       "      <td>8.0</td>\n",
       "      <td>21000000</td>\n",
       "      <td>0</td>\n",
       "      <td>4</td>\n",
       "    </tr>\n",
       "    <tr>\n",
       "      <th>3</th>\n",
       "      <td>12</td>\n",
       "      <td>Spencer</td>\n",
       "      <td>R</td>\n",
       "      <td>2021-11-05</td>\n",
       "      <td>111</td>\n",
       "      <td>85.0</td>\n",
       "      <td>6.4</td>\n",
       "      <td>21000000</td>\n",
       "      <td>0</td>\n",
       "      <td>4</td>\n",
       "    </tr>\n",
       "    <tr>\n",
       "      <th>4</th>\n",
       "      <td>24</td>\n",
       "      <td>Mothering Sunday</td>\n",
       "      <td>R</td>\n",
       "      <td>2021-11-19</td>\n",
       "      <td>110</td>\n",
       "      <td>69.0</td>\n",
       "      <td>6.2</td>\n",
       "      <td>21000000</td>\n",
       "      <td>0</td>\n",
       "      <td>4</td>\n",
       "    </tr>\n",
       "    <tr>\n",
       "      <th>5</th>\n",
       "      <td>30</td>\n",
       "      <td>The Humans</td>\n",
       "      <td>R</td>\n",
       "      <td>2021-11-24</td>\n",
       "      <td>108</td>\n",
       "      <td>78.0</td>\n",
       "      <td>7.3</td>\n",
       "      <td>21000000</td>\n",
       "      <td>0</td>\n",
       "      <td>4</td>\n",
       "    </tr>\n",
       "    <tr>\n",
       "      <th>6</th>\n",
       "      <td>33</td>\n",
       "      <td>Red Rocket</td>\n",
       "      <td>R</td>\n",
       "      <td>2021-12-03</td>\n",
       "      <td>128</td>\n",
       "      <td>78.0</td>\n",
       "      <td>7.0</td>\n",
       "      <td>21000000</td>\n",
       "      <td>0</td>\n",
       "      <td>4</td>\n",
       "    </tr>\n",
       "    <tr>\n",
       "      <th>7</th>\n",
       "      <td>39</td>\n",
       "      <td>Swan Song</td>\n",
       "      <td>R</td>\n",
       "      <td>2021-08-13</td>\n",
       "      <td>105</td>\n",
       "      <td>66.0</td>\n",
       "      <td>7.0</td>\n",
       "      <td>21000000</td>\n",
       "      <td>0</td>\n",
       "      <td>4</td>\n",
       "    </tr>\n",
       "  </tbody>\n",
       "</table>\n",
       "</div>"
      ],
      "text/plain": [
       "   movie_id                  title movie_rating release_date  runtime  \\\n",
       "0         1                   Dune        PG-13   2021-10-22      155   \n",
       "1         3       Ron's Gone Wrong           PG   2021-10-22      106   \n",
       "2         8  The Souvenir: Part II            R   2021-10-29      106   \n",
       "3        12                Spencer            R   2021-11-05      111   \n",
       "4        24       Mothering Sunday            R   2021-11-19      110   \n",
       "5        30             The Humans            R   2021-11-24      108   \n",
       "6        33             Red Rocket            R   2021-12-03      128   \n",
       "7        39              Swan Song            R   2021-08-13      105   \n",
       "\n",
       "   metascore  imdb_rating    budget  boxoffice  buzz  \n",
       "0       75.0          8.4  21000000          0     4  \n",
       "1       68.0          6.3  21000000          0     4  \n",
       "2       98.0          8.0  21000000          0     4  \n",
       "3       85.0          6.4  21000000          0     4  \n",
       "4       69.0          6.2  21000000          0     4  \n",
       "5       78.0          7.3  21000000          0     4  \n",
       "6       78.0          7.0  21000000          0     4  \n",
       "7       66.0          7.0  21000000          0     4  "
      ]
     },
     "execution_count": 27,
     "metadata": {},
     "output_type": "execute_result"
    }
   ],
   "source": [
    "movie_start_df = pd.read_csv(\"output/upcoming_movie.csv\")\n",
    "movie_start_df['budget'] = 21000000\n",
    "movie_start_df['boxoffice'] = 0\n",
    "movie_start_df['buzz'] = 4\n",
    "\n",
    "movie_start_df"
   ]
  },
  {
   "cell_type": "code",
   "execution_count": 28,
   "metadata": {},
   "outputs": [],
   "source": [
    "movie_start_df.to_csv(\"output/upcoming_movie_table.csv\", index=False)"
   ]
  },
  {
   "cell_type": "code",
   "execution_count": 22,
   "metadata": {},
   "outputs": [],
   "source": [
    "engine = create_engine(f\"postgresql://{db_user}:{db_pass}@{db_host}:5432/{DB}\")\n",
    "conn = engine.connect()"
   ]
  },
  {
   "cell_type": "code",
   "execution_count": 23,
   "metadata": {},
   "outputs": [],
   "source": [
    "session = Session(bind=engine)"
   ]
  },
  {
   "cell_type": "code",
   "execution_count": 25,
   "metadata": {},
   "outputs": [],
   "source": [
    "movie = pd.read_csv('output/upcoming_movie_table.csv', index_col=0)\n",
    "movie.to_sql('Movie', con = conn, if_exists='append', chunksize = 100000, method ='multi')"
   ]
  },
  {
   "cell_type": "code",
   "execution_count": null,
   "metadata": {},
   "outputs": [],
   "source": [
    "genre = pd.read_csv('output/upcoming_genre_table.csv', index_col=0)\n",
    "genre.to_sql('Genre', con = conn, if_exists='append', chunksize = 100000, method ='multi')"
   ]
  },
  {
   "cell_type": "code",
   "execution_count": null,
   "metadata": {},
   "outputs": [],
   "source": [
    "role = pd.read_csv('output/upcoming_role_table.csv', index_col=0)\n",
    "role.to_sql('Role', con = conn, if_exists='append', chunksize = 100000, method ='multi')"
   ]
  },
  {
   "cell_type": "code",
   "execution_count": null,
   "metadata": {},
   "outputs": [],
   "source": [
    "person = pd.read_csv('output/upcoming_person_table.csv', index_col=0)\n",
    "person.to_sql('Person', con = conn, if_exists='append', chunksize = 100000, method ='multi')"
   ]
  },
  {
   "cell_type": "code",
   "execution_count": null,
   "metadata": {},
   "outputs": [],
   "source": [
    "movie_person_role_juction = pd.read_csv('output/upcoming_movie_role_person_junction_table.csv', index_col=0)\n",
    "movie_person_role_juction.to_sql('Movie_Person_Role_Junction', con = conn, if_exists='append', chunksize = 100000, method ='multi')"
   ]
  },
  {
   "cell_type": "code",
   "execution_count": null,
   "metadata": {},
   "outputs": [],
   "source": [
    "movie_genre_juction = pd.read_csv('output/upcoming_movie_genre_junction_table.csv', index_col=0)\n",
    "movie_genre_juction.to_sql('Movie_Genre_Junction', con = conn, if_exists='append', chunksize = 100000, method ='multi')"
   ]
  },
  {
   "cell_type": "code",
   "execution_count": null,
   "metadata": {},
   "outputs": [],
   "source": [
    "session.close()"
   ]
  }
 ],
 "metadata": {
  "interpreter": {
   "hash": "62bb34d63c24be0a0ab897fb5f46a4d7d45009535ba030eb5ffeb658607c367a"
  },
  "kernelspec": {
   "display_name": "Python 3.6.10 64-bit ('PythonData': conda)",
   "name": "python3"
  },
  "language_info": {
   "codemirror_mode": {
    "name": "ipython",
    "version": 3
   },
   "file_extension": ".py",
   "mimetype": "text/x-python",
   "name": "python",
   "nbconvert_exporter": "python",
   "pygments_lexer": "ipython3",
   "version": "3.6.10"
  },
  "orig_nbformat": 4
 },
 "nbformat": 4,
 "nbformat_minor": 2
}
