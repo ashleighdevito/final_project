{
 "cells": [
  {
   "cell_type": "code",
   "execution_count": 1,
   "metadata": {},
   "outputs": [],
   "source": [
    "import pandas as pd\n",
    "from sqlalchemy import create_engine\n",
    "from sqlalchemy.orm import Session\n",
    "import psycopg2 as pg\n",
    "\n",
    "from db_config_ import db_user\n",
    "from db_config import db_pass\n",
    "from db_config import db_host\n",
    "from db_config import DB\n"
   ]
  },
  {
   "cell_type": "code",
   "execution_count": 2,
   "metadata": {},
   "outputs": [],
   "source": [
    "engine = create_engine(f\"postgresql://{db_user}:{db_pass}@{db_host}:5432/{DB}\")\n",
    "conn = engine.connect()"
   ]
  },
  {
   "cell_type": "code",
   "execution_count": 3,
   "metadata": {},
   "outputs": [],
   "source": [
    "session = Session(bind=engine)"
   ]
  },
  {
   "cell_type": "code",
   "execution_count": null,
   "metadata": {},
   "outputs": [],
   "source": [
    "movie = pd.read_csv('output/movie.csv', index_col=0)\n",
    "movie.to_sql('Movie', con = conn, if_exists='append', chunksize = 100000, method ='multi')"
   ]
  },
  {
   "cell_type": "code",
   "execution_count": 4,
   "metadata": {},
   "outputs": [],
   "source": [
    "movie_genre_juction = pd.read_csv('output/movie_genre_juction.csv', index_col=0)\n",
    "movie_genre_juction.to_sql('Movie_Genre_Juction', con = conn, if_exists='append', chunksize = 100000, method ='multi')"
   ]
  },
  {
   "cell_type": "code",
   "execution_count": null,
   "metadata": {},
   "outputs": [],
   "source": [
    "movie_person_role_juction = pd.read_csv('output/movie_role_person_junction_table.csv', index_col=0)\n",
    "movie_person_role_juction.to_sql('Movie_Person_Role_Juction', con = conn, if_exists='append', chunksize = 100000, method ='multi')"
   ]
  },
  {
   "cell_type": "code",
   "execution_count": null,
   "metadata": {},
   "outputs": [],
   "source": [
    "genre = pd.read_csv('output/genre.csv', index_col=0)\n",
    "genre.to_sql('Genre', con = conn, if_exists='append', chunksize = 100000, method ='multi')"
   ]
  },
  {
   "cell_type": "code",
   "execution_count": null,
   "metadata": {},
   "outputs": [],
   "source": [
    "person = pd.read_csv('output/person_table.csv', index_col=0)\n",
    "person.to_sql('Person', con = conn, if_exists='append', chunksize = 100000, method ='multi')"
   ]
  },
  {
   "cell_type": "code",
   "execution_count": null,
   "metadata": {},
   "outputs": [],
   "source": [
    "role = pd.read_csv('output/role_table.csv', index_col=0)\n",
    "role.to_sql('Role', con = conn, if_exists='append', chunksize = 100000, method ='multi')"
   ]
  },
  {
   "cell_type": "code",
   "execution_count": 16,
   "metadata": {},
   "outputs": [],
   "source": [
    "session.close()"
   ]
  }
 ],
 "metadata": {
  "interpreter": {
   "hash": "ed99c328fe6228cde88a5ea9dac3573c8a80070b6f57470153ed5be436ecc5ea"
  },
  "kernelspec": {
   "display_name": "Python 3.6.10 64-bit ('PythonData': conda)",
   "name": "python3"
  },
  "language_info": {
   "codemirror_mode": {
    "name": "ipython",
    "version": 3
   },
   "file_extension": ".py",
   "mimetype": "text/x-python",
   "name": "python",
   "nbconvert_exporter": "python",
   "pygments_lexer": "ipython3",
   "version": "3.6.10"
  },
  "orig_nbformat": 4
 },
 "nbformat": 4,
 "nbformat_minor": 2
}
